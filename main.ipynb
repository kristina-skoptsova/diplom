{
  "nbformat": 4,
  "nbformat_minor": 0,
  "metadata": {
    "colab": {
      "provenance": [],
      "gpuType": "T4",
      "authorship_tag": "ABX9TyMECrzf0NBpmCbGot5DoSXB",
      "include_colab_link": true
    },
    "kernelspec": {
      "name": "python3",
      "display_name": "Python 3"
    },
    "language_info": {
      "name": "python"
    },
    "accelerator": "GPU"
  },
  "cells": [
    {
      "cell_type": "markdown",
      "metadata": {
        "id": "view-in-github",
        "colab_type": "text"
      },
      "source": [
        "<a href=\"https://colab.research.google.com/github/kristina-skoptsova/diplom/blob/main/main.ipynb\" target=\"_parent\"><img src=\"https://colab.research.google.com/assets/colab-badge.svg\" alt=\"Open In Colab\"/></a>"
      ]
    },
    {
      "cell_type": "markdown",
      "source": [
        "Автор: Скопцова Кристина Антоновна\n",
        "\n",
        "Тема ВКР: Разработка системы прогнозирования набора абитуриентов на направления подготовки высшего образования"
      ],
      "metadata": {
        "id": "XZ6jBfeNywVM"
      }
    },
    {
      "cell_type": "code",
      "execution_count": 24,
      "metadata": {
        "colab": {
          "base_uri": "https://localhost:8080/"
        },
        "id": "64HQrbHuFP4b",
        "outputId": "beb2965a-ad9c-4e66-a847-7750011e6e54",
        "collapsed": true
      },
      "outputs": [
        {
          "output_type": "stream",
          "name": "stdout",
          "text": [
            "\u001b[1G\u001b[0K⠙\u001b[1G\u001b[0K⠹\u001b[1G\u001b[0K⠸\u001b[1G\u001b[0K⠼\u001b[1G\u001b[0K⠴\u001b[1G\u001b[0K⠦\u001b[1G\u001b[0K⠧\u001b[1G\u001b[0K⠇\u001b[1G\u001b[0K⠏\u001b[1G\u001b[0K⠋\u001b[1G\u001b[0K⠙\u001b[1G\u001b[0K⠹\u001b[1G\u001b[0K⠸\u001b[1G\u001b[0K⠼\u001b[1G\u001b[0K\n",
            "up to date, audited 23 packages in 1s\n",
            "\u001b[1G\u001b[0K⠴\u001b[1G\u001b[0K\n",
            "\u001b[1G\u001b[0K⠴\u001b[1G\u001b[0K3 packages are looking for funding\n",
            "\u001b[1G\u001b[0K⠴\u001b[1G\u001b[0K  run `npm fund` for details\n",
            "\u001b[1G\u001b[0K⠴\u001b[1G\u001b[0K\n",
            "2 \u001b[31m\u001b[1mhigh\u001b[22m\u001b[39m severity vulnerabilities\n",
            "\n",
            "To address all issues (including breaking changes), run:\n",
            "  npm audit fix --force\n",
            "\n",
            "Run `npm audit` for details.\n",
            "\u001b[1G\u001b[0K⠴\u001b[1G\u001b[0K"
          ]
        }
      ],
      "source": [
        "# Загрузка файла requirements.txt с версиями библиотек, загрузка инструмента для создания локального сервера, загрузка файла app.py\n",
        "!wget -q https://raw.githubusercontent.com/kristina-skoptsova/diplom/refs/heads/main/requirements.txt\n",
        "!wget -q https://raw.githubusercontent.com/kristina-skoptsova/diplom/refs/heads/main/app.py -O /content/.app.py\n",
        "!npm install -q localtunnel\n",
        "!pip install -q -r requirements.txt"
      ]
    },
    {
      "cell_type": "code",
      "source": [
        "# Загрузка обработанного датасета для  тестирования системы\n",
        "!wget https://raw.githubusercontent.com/kristina-skoptsova/diplom/refs/heads/main/datasets/dataset_muiv.csv"
      ],
      "metadata": {
        "colab": {
          "base_uri": "https://localhost:8080/"
        },
        "id": "mqbTgDoHuPEQ",
        "outputId": "01ea5e09-51db-4ee4-fced-4b88045c7d19"
      },
      "execution_count": 21,
      "outputs": [
        {
          "output_type": "stream",
          "name": "stdout",
          "text": [
            "--2025-06-01 13:33:08--  https://raw.githubusercontent.com/kristina-skoptsova/diplom/refs/heads/main/datasets/dataset_muiv.csv\n",
            "Resolving raw.githubusercontent.com (raw.githubusercontent.com)... 185.199.111.133, 185.199.109.133, 185.199.108.133, ...\n",
            "Connecting to raw.githubusercontent.com (raw.githubusercontent.com)|185.199.111.133|:443... connected.\n",
            "HTTP request sent, awaiting response... 200 OK\n",
            "Length: 916560 (895K) [text/plain]\n",
            "Saving to: ‘dataset_muiv.csv.1’\n",
            "\n",
            "dataset_muiv.csv.1  100%[===================>] 895.08K  --.-KB/s    in 0.004s  \n",
            "\n",
            "2025-06-01 13:33:09 (208 MB/s) - ‘dataset_muiv.csv.1’ saved [916560/916560]\n",
            "\n"
          ]
        }
      ]
    },
    {
      "cell_type": "code",
      "source": [
        "import subprocess\n",
        "import threading\n",
        "\n",
        "def run_streamlit():\n",
        "    subprocess.run([\n",
        "        \"python\", \"-m\", \"streamlit\", \"run\", \"/content/.app.py\",\n",
        "        \"--server.port\", \"8501\",\n",
        "        \"--server.headless\", \"true\",\n",
        "        \"--browser.gatherUsageStats\", \"false\"\n",
        "    ], stdout=subprocess.DEVNULL, stderr=subprocess.DEVNULL)\n",
        "\n",
        "thread = threading.Thread(target=run_streamlit, daemon=True)\n",
        "thread.start()\n",
        "\n",
        "# Запуск localtunnel\n",
        "!npx localtunnel --port 8501 --subdomain mystreamlitapp123 2>&1 | grep -o \"https://.*\""
      ],
      "metadata": {
        "id": "g3cbUywD7wVB",
        "outputId": "c46ba124-1764-4396-c18c-f9dfdca4410d",
        "colab": {
          "base_uri": "https://localhost:8080/"
        }
      },
      "execution_count": 25,
      "outputs": [
        {
          "output_type": "stream",
          "name": "stdout",
          "text": [
            "https://mystreamlitapp123.loca.lt\n",
            "^C\n"
          ]
        }
      ]
    }
  ]
}